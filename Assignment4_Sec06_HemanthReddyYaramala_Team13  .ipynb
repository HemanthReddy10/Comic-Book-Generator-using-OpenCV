{
 "cells": [
  {
   "cell_type": "code",
   "execution_count": 13,
   "metadata": {},
   "outputs": [],
   "source": [
    "###################################################################################################Page1\n",
    "# import os\n",
    "# images1 = os.listdir(r'D:\\6105\\assignment\\Assignment4_Sec06_LeqiWei_Team13\\page1\\pictures')\n",
    "# os.chdir(r'D:\\6105\\assignment\\Assignment4_Sec06_LeqiWei_Team13\\page1\\pictures')\n",
    "# #sort pictures\n",
    "# images1.sort()"
   ]
  },
  {
   "cell_type": "code",
   "execution_count": 1,
   "metadata": {},
   "outputs": [],
   "source": [
    "import cv2 \n",
    "from IPython.display import display\n"
   ]
  },
  {
   "cell_type": "code",
   "execution_count": 2,
   "metadata": {},
   "outputs": [],
   "source": [
    "def imgcompress_mem(path_in, k):\n",
    "    img = cv2.imread(path_in, cv2.IMREAD_UNCHANGED)\n",
    "\n",
    "    # set the ratio of resized image\n",
    "    width = int((img.shape[1])/k)\n",
    "    height = int((img.shape[0])/k)\n",
    "\n",
    "    # resize the image by resize() function of openCV library\n",
    "    return cv2.resize(img, (width, height), interpolation=cv2.INTER_AREA)"
   ]
  },
  {
   "cell_type": "code",
   "execution_count": 3,
   "metadata": {},
   "outputs": [],
   "source": [
    "# Controls blur amount and line size\n",
    "def cartoonizebl_mem(path_in, k, blur, line):\n",
    "    imgc = imgcompress_mem(path_in, k)\n",
    "    #imgc_pil = cv2.cvtColor(imgc, cv2.COLOR_BGR2RGB) # Converting BGR to RGB\n",
    "    #display(Image.fromarray(imgc_pil))\n",
    "\n",
    "    line_size = line\n",
    "    blur_value = blur\n",
    "    #imgc = cv2.imread(path_out, cv2.IMREAD_UNCHANGED)\n",
    "    gray = cv2.cvtColor(imgc, cv2.COLOR_BGR2GRAY)\n",
    "    gray_blur = cv2.medianBlur(gray, blur_value)\n",
    "    bigedges = cv2.adaptiveThreshold(gray_blur, 255, cv2.ADAPTIVE_THRESH_MEAN_C, cv2.THRESH_BINARY, line_size, blur_value)\n",
    "    bigedges_pil = cv2.cvtColor(bigedges, cv2.COLOR_BGR2RGB) # Converting BGR to RGB\n",
    "    #display(Image.fromarray(bigedges_pil))\n",
    "\n",
    "\n",
    "    return cv2.bitwise_and(imgc, imgc, mask=bigedges)"
   ]
  },
  {
   "cell_type": "code",
   "execution_count": 4,
   "metadata": {},
   "outputs": [],
   "source": [
    "from PIL import Image as pili, ImageDraw as pild, ImageFont as pilf ,ImageOps as piliops\n",
    "from PIL import Image, ImageFont, ImageDraw\n",
    "\n",
    "for i in range (1, 21):\n",
    "    cblimg1 = cartoonizebl_mem(fr'/Users/hemanth/Desktop/Ass4/page1/pictures/{i}.jpg', 1, 5, 13)\n",
    "    cv2.imwrite(fr'/Users/hemanth/Desktop/Ass4/page1/picture_cartoon/{i}.jpg', cblimg1)\n",
    "\n",
    "    cblimg2 = cartoonizebl_mem(fr'/Users/hemanth/Desktop/Ass4/page2/pictures/{i}.jpg', 1, 5, 13)\n",
    "    cv2.imwrite(fr'/Users/hemanth/Desktop/Ass4/page2/picture_cartoon/{i}.jpg', cblimg2)\n",
    "\n",
    "for i in range (1, 19):    \n",
    "    img = pili.open(fr'/Users/hemanth/Desktop/Ass4/page3/pictures/{i}.jpg').convert('RGBA')\n",
    "    cblimg3 = cartoonizebl_mem(fr'/Users/hemanth/Desktop/Ass4/page3/pictures/{i}.jpg', 1, 5, 13)\n",
    "\n",
    "    cv2.imwrite(fr'/Users/hemanth/Desktop/Ass4/page3/picture_cartoon/{i}.jpg', cblimg3)\n",
    "    "
   ]
  },
  {
   "cell_type": "code",
   "execution_count": 5,
   "metadata": {},
   "outputs": [
    {
     "name": "stdout",
     "output_type": "stream",
     "text": [
      "Done!\n"
     ]
    }
   ],
   "source": [
    "###################################################################################################PageAll\n",
    "import pandas as pd\n",
    "import numpy as np\n",
    "import textwrap\n",
    "from PIL import Image, ImageFont, ImageDraw\n",
    "from PIL import Image as pili, ImageDraw as pild, ImageFont as pilf ,ImageOps as piliops\n",
    "for p in range(1,4):\n",
    "    data = pd.read_csv(f'/Users/hemanth/Desktop/Ass4/page{p}/dialogues{p}.txt', sep=';')\n",
    "    if p == 1 or p ==2:\n",
    "        l = 20\n",
    "    elif p==3:\n",
    "        l = 18\n",
    "    for i in range (l):\n",
    "        caption = data.values[i][0]\n",
    "        TINT_COLOR = (0, 0, 0)  # Black\n",
    "        TRANSPARENCY = .60  # Degree of transparency, 0-100%\n",
    "        OPACITY = int(255 * TRANSPARENCY)\n",
    "        img = pili.open(fr'/Users/hemanth/Desktop/Ass4/page{p}/picture_cartoon/{i+1}.jpg').convert('RGBA')\n",
    "        img = piliops.expand(img, border=(100,100),fill='black')\n",
    "        overlay = pili.new('RGBA', img.size, TINT_COLOR+(0,))\n",
    "        draw = pild.Draw(overlay)\n",
    "        font = pilf.truetype(\"/Users/hemanth/Desktop/Ass4/Lato-Italic.ttf\", 66)\n",
    "        #x, y = (img.width - 510, img.height-100)\n",
    "        text = caption\n",
    "        #\n",
    "        def draw_multiple_line_text(img, text, font, text_color, text_start_height):\n",
    "            draw = pild.Draw(img)\n",
    "            image_width, image_height = img.size\n",
    "            y_text = text_start_height\n",
    "            lines = textwrap.wrap(text, width=40)\n",
    "            for line in lines:\n",
    "                line_width, line_height = font.getsize(line)\n",
    "                draw.text(((image_width - line_width)/2, y_text), \n",
    "                          line, font=font, fill=text_color)\n",
    "                y_text += line_height\n",
    "     \n",
    "        text_color = (255, 69, 0)\n",
    "        text_start_height=0\n",
    "    \n",
    "        draw_multiple_line_text(img, text, font, text_color, text_start_height)\n",
    "\n",
    "        # Alpha composite these two images together to obtain the desired result.\n",
    "        img = pili.alpha_composite(img, overlay)\n",
    "        img = img.convert(\"RGB\") # Remove alpha for saving in jpg format.\n",
    "\n",
    "        img.save(fr'/Users/hemanth/Desktop/Ass4/page{p}/pictures_english/{i+1}.jpg')\n",
    "print(\"Done!\")"
   ]
  },
  {
   "cell_type": "code",
   "execution_count": 6,
   "metadata": {
    "scrolled": true
   },
   "outputs": [
    {
     "name": "stdout",
     "output_type": "stream",
     "text": [
      "Done!\n"
     ]
    }
   ],
   "source": [
    "import pandas as pd\n",
    "import numpy as np\n",
    "import textwrap\n",
    "from PIL import Image, ImageFont, ImageDraw\n",
    "from PIL import Image as pili, ImageDraw as pild, ImageFont as pilf ,ImageOps as piliops\n",
    "for p in range(1,4):\n",
    "    data = pd.read_csv(f'/Users/hemanth/Desktop/Ass4/page{p}/telugu{p}.txt', sep=';')\n",
    "    if p == 1 or p ==2:\n",
    "        l = 20\n",
    "    elif p==3:\n",
    "        l = 18\n",
    "    for i in range (l):\n",
    "        caption = data.values[i][0]\n",
    "        TINT_COLOR = (0, 0, 0)  # Black\n",
    "        TRANSPARENCY = .60  # Degree of transparency, 0-100%\n",
    "        OPACITY = int(255 * TRANSPARENCY)\n",
    "        img = pili.open(fr'/Users/hemanth/Desktop/Ass4/page{p}/picture_cartoon/{i+1}.jpg').convert('RGBA')\n",
    "        img = piliops.expand(img, border=(100,100),fill='black')\n",
    "        overlay = pili.new('RGBA', img.size, TINT_COLOR+(0,))\n",
    "        draw = pild.Draw(overlay)\n",
    "        font = pilf.truetype(\"/Users/hemanth/Desktop/Ass4/NotoSansTelugu-VariableFont_wdth,wght.ttf\", 66)\n",
    "        #x, y = (img.width - 510, img.height-100)\n",
    "        text = caption\n",
    "        #\n",
    "        def draw_multiple_line_text(img, text, font, text_color, text_start_height):\n",
    "            draw = pild.Draw(img)\n",
    "            image_width, image_height = img.size\n",
    "            y_text = text_start_height\n",
    "            lines = textwrap.wrap(text, width=40)\n",
    "            for line in lines:\n",
    "                line_width, line_height = font.getsize(line)\n",
    "                draw.text(((image_width - line_width)/2, y_text), \n",
    "                          line, font=font, fill=text_color)\n",
    "                y_text += line_height\n",
    "     \n",
    "        text_color = (255, 69, 0)\n",
    "        text_start_height=0\n",
    "    \n",
    "        draw_multiple_line_text(img, text, font, text_color, text_start_height)\n",
    "\n",
    "        # Alpha composite these two images together to obtain the desired result.\n",
    "        img = pili.alpha_composite(img, overlay)\n",
    "        img = img.convert(\"RGB\") # Remove alpha for saving in jpg format.\n",
    "\n",
    "        img.save(fr'/Users/hemanth/Desktop/Ass4/page{p}/pictures_telugu/{i+1}.jpg')\n",
    "print(\"Done!\")"
   ]
  },
  {
   "cell_type": "code",
   "execution_count": 7,
   "metadata": {},
   "outputs": [],
   "source": [
    "dict_pics_per_page = {\n",
    "    1:20,\n",
    "    2:20,\n",
    "    3:18\n",
    "}"
   ]
  },
  {
   "cell_type": "code",
   "execution_count": 8,
   "metadata": {},
   "outputs": [
    {
     "name": "stderr",
     "output_type": "stream",
     "text": [
      "/var/folders/wm/t7z8ghp90h9c544mpw46dxzc0000gn/T/ipykernel_50064/920050812.py:30: FutureWarning: arrays to stack must be passed as a \"sequence\" type such as list or tuple. Support for non-sequence iterables such as generators is deprecated as of NumPy 1.16 and will raise an error in the future.\n",
      "  imgs_comb = np.hstack( (np.asarray( i.resize(min_shape) ) for i in imgs ) )\n",
      "/var/folders/wm/t7z8ghp90h9c544mpw46dxzc0000gn/T/ipykernel_50064/920050812.py:43: FutureWarning: arrays to stack must be passed as a \"sequence\" type such as list or tuple. Support for non-sequence iterables such as generators is deprecated as of NumPy 1.16 and will raise an error in the future.\n",
      "  imgs_comb2 = np.vstack( (np.asarray( i.resize(min_shape2) ) for i in imgs_set ) )\n"
     ]
    },
    {
     "name": "stdout",
     "output_type": "stream",
     "text": [
      "Done!\n"
     ]
    }
   ],
   "source": [
    "import pandas as pd\n",
    "import numpy as np\n",
    "import os\n",
    "import PIL\n",
    "from IPython.display import Image\n",
    "from PIL import Image as pili, ImageOps as piliops, ImageDraw as pild, ImageFont as pilf \n",
    "from os import listdir\n",
    "from os.path import isfile, join\n",
    "\n",
    "for page in dict_pics_per_page.keys():\n",
    "    path = fr'/Users/hemanth/Desktop/Ass4/page{page}/pictures_english'\n",
    "\n",
    "    path_list1 = [join(path, i) for i in os.listdir(path) if isfile(join(path, i))]\n",
    "    path_list1.sort(key=lambda x: int(os.path.basename(x).rstrip('.jpg')))\n",
    "\n",
    "    imgs = [ PIL.Image.open(i) for i in path_list1]\n",
    "    # pili.open(fr'D:\\6105\\assignment\\Assignment4_Sec06_LeqiWei_Team13\\page1\\picture_cartoon\\{i+1}.jpg').convert('RGBA')\n",
    "    # pick the image which is the smallest, and resize the others to match it (can be arbitrary image shape here)\n",
    "    min_shape = sorted( [(np.sum(i.size), i.size ) for i in imgs])[0][1]\n",
    "\n",
    "    j = 0\n",
    "    line = 0\n",
    "    imgs_set = []\n",
    "    #horizontally attach every 4 pictures\n",
    "    while j < dict_pics_per_page[page]:\n",
    "        if line == 1 or line == 4:\n",
    "            imgs    = [ PIL.Image.open(i) for i in path_list1[j:j+4]]\n",
    "        else:\n",
    "            imgs    = [ PIL.Image.open(i) for i in path_list1[j:j+3]]\n",
    "        imgs_comb = np.hstack( (np.asarray( i.resize(min_shape) ) for i in imgs ) )\n",
    "        # save that beautiful picture\n",
    "        imgs_comb = PIL.Image.fromarray( imgs_comb)\n",
    "        #put all attached images into a list\n",
    "        imgs_set.append(imgs_comb)\n",
    "        if line == 1 or line == 4:\n",
    "            j = j + 4\n",
    "        else:\n",
    "            j = j + 3\n",
    "        line = line + 1\n",
    "\n",
    "    # pick the image which is the smallest, and resize the others to match it (can be arbitrary image shape here)\n",
    "    min_shape2 = sorted( [(np.sum(i.size), i.size ) for i in imgs_set])[0][1]\n",
    "    imgs_comb2 = np.vstack( (np.asarray( i.resize(min_shape2) ) for i in imgs_set ) )\n",
    "\n",
    "    # save that beautiful picture\n",
    "    imgs_comb2 = PIL.Image.fromarray( imgs_comb2)\n",
    "    imgs_comb2.save(fr'/Users/hemanth/Desktop/Ass4/page{page}/page{page}.png') \n",
    "print(\"Done!\")\n"
   ]
  },
  {
   "cell_type": "code",
   "execution_count": 9,
   "metadata": {},
   "outputs": [
    {
     "name": "stdout",
     "output_type": "stream",
     "text": [
      "done!\n"
     ]
    }
   ],
   "source": [
    "\n",
    "from fpdf import FPDF\n",
    "\n",
    "#pdf = FPDF()\n",
    "cover = pili.open(r\"/Users/hemanth/Desktop/Ass4/page1/page1.png\")\n",
    "width, height = cover.size\n",
    "pdf = FPDF(unit = \"pt\", format = [width, height])\n",
    "    \n",
    "# imagelist is the list with all image filenames\n",
    "imagelist = [fr\"/Users/hemanth/Desktop/Ass4/page{i}/page{i}.png\" for i in range(1,4)]\n",
    "\n",
    "for image in imagelist:\n",
    "    pdf.add_page()\n",
    "    pdf.image(image, 0, 0, width, height)\n",
    "pdf.output(\"Snow-comic-book.pdf\", \"F\")\n",
    "print(\"done!\")"
   ]
  }
 ],
 "metadata": {
  "kernelspec": {
   "display_name": "Python 3 (ipykernel)",
   "language": "python",
   "name": "python3"
  },
  "language_info": {
   "codemirror_mode": {
    "name": "ipython",
    "version": 3
   },
   "file_extension": ".py",
   "mimetype": "text/x-python",
   "name": "python",
   "nbconvert_exporter": "python",
   "pygments_lexer": "ipython3",
   "version": "3.9.7"
  }
 },
 "nbformat": 4,
 "nbformat_minor": 4
}
